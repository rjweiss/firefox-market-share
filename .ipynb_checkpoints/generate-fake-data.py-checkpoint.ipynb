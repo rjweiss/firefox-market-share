{
 "metadata": {
  "name": "",
  "signature": "sha256:e2a7a224c4babdbbb47b9872799f5703f5995337ef427fdb0021b8dde084cd76"
 },
 "nbformat": 3,
 "nbformat_minor": 0,
 "worksheets": [
  {
   "cells": [
    {
     "cell_type": "code",
     "collapsed": false,
     "input": [
      "import simplejson\n",
      "import random\n",
      "import itertools\n",
      "import datetime\n",
      "\n",
      "def date_generator_weekly():\n",
      "  from_date = datetime.datetime.today()\n",
      "  while True:\n",
      "    yield from_date\n",
      "    from_date = from_date - datetime.timedelta(weeks=1)\n",
      "\n",
      "def date_generator_monthly():\n",
      "  from_date = datetime.datetime.today()\n",
      "  while True:\n",
      "    yield from_date\n",
      "    from_date = from_date - datetime.timedelta(weeks=4)\n",
      "   \n",
      "dates_weeks = itertools.islice(date_generator_weekly(), 260)\n",
      "dates_months = itertools.islice(date_generator_monthly(), 72)"
     ],
     "language": "python",
     "metadata": {},
     "outputs": [],
     "prompt_number": 111
    },
    {
     "cell_type": "code",
     "collapsed": false,
     "input": [
      "weeks = [str(date.date()) for date in list(dates_weeks)]\n",
      "months = [str(date.date()) for date in list(dates_months)]"
     ],
     "language": "python",
     "metadata": {},
     "outputs": [],
     "prompt_number": 112
    },
    {
     "cell_type": "code",
     "collapsed": false,
     "input": [
      "nms_values1 = dict(zip(months, [round(random.uniform(0.5, 0.6), 4) for x in enumerate(months)]))\n",
      "sc_values1 = dict(zip(weeks, [round(random.uniform(0.5, 0.6), 4) for x in enumerate(weeks)]))\n",
      "\n",
      "nms_values2 = dict(zip(months, [round(random.uniform(0.6, 0.7), 4) for x in enumerate(months)]))\n",
      "sc_values2 = dict(zip(weeks, [round(random.uniform(0.6, 0.7), 4) for x in enumerate(weeks)]))\n",
      "\n",
      "nms_values3 = dict(zip(months, [round(random.uniform(0.2, 0.3), 4) for x in enumerate(months)]))\n",
      "sc_values3 = dict(zip(weeks, [round(random.uniform(0.2, 0.3), 4) for x in enumerate(weeks)]))\n",
      "\n",
      "nms_values4 = dict(zip(months, [round(random.uniform(0.9, 1.0), 4) for x in enumerate(months)]))\n",
      "sc_values4 = dict(zip(weeks, [round(random.uniform(0.9, 1.0), 4) for x in enumerate(weeks)]))"
     ],
     "language": "python",
     "metadata": {},
     "outputs": [],
     "prompt_number": 117
    },
    {
     "cell_type": "code",
     "collapsed": false,
     "input": [
      "l1 = list()\n",
      "l2 = list()\n",
      "l3 = list()\n",
      "l4 = list()\n",
      "\n",
      "for i, x in enumerate(weeks):\n",
      "    if x in set(months):\n",
      "        l1.append({'date':weeks[i], 'nms_value': nms_values1[x], 'sc_value': sc_values1[x]})\n",
      "        l2.append({'date':weeks[i], 'nms_value': nms_values2[x], 'sc_value': sc_values2[x]})\n",
      "        l3.append({'date':weeks[i], 'nms_value': nms_values3[x], 'sc_value': sc_values3[x]})\n",
      "        l4.append({'date':weeks[i], 'nms_value': nms_values4[x], 'sc_value': sc_values4[x]})\n",
      "    else:\n",
      "        l1.append({'date':weeks[i], 'sc_value': sc_values1[x]})\n",
      "        l2.append({'date':weeks[i], 'sc_value': sc_values2[x]})\n",
      "        l3.append({'date':weeks[i], 'sc_value': sc_values3[x]})\n",
      "        l4.append({'date':weeks[i], 'sc_value': sc_values4[x]})\n",
      "        "
     ],
     "language": "python",
     "metadata": {},
     "outputs": [],
     "prompt_number": 119
    },
    {
     "cell_type": "code",
     "collapsed": false,
     "input": [
      "with open('data/output.json', 'wb') as outfile:\n",
      "    simplejson.dump([l1, l2, l3, l4], outfile)"
     ],
     "language": "python",
     "metadata": {},
     "outputs": [],
     "prompt_number": 120
    }
   ],
   "metadata": {}
  }
 ]
}